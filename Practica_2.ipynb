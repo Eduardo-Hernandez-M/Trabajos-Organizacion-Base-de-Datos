{
  "nbformat": 4,
  "nbformat_minor": 0,
  "metadata": {
    "colab": {
      "provenance": [],
      "authorship_tag": "ABX9TyNxaerPvRIpTW+UJYvZvVQw",
      "include_colab_link": true
    },
    "kernelspec": {
      "name": "python3",
      "display_name": "Python 3"
    },
    "language_info": {
      "name": "python"
    }
  },
  "cells": [
    {
      "cell_type": "markdown",
      "metadata": {
        "id": "view-in-github",
        "colab_type": "text"
      },
      "source": [
        "<a href=\"https://colab.research.google.com/github/Eduardo-Hernandez-M/Trabajos-Organizacion-Base-de-Datos/blob/main/Practica_2.ipynb\" target=\"_parent\"><img src=\"https://colab.research.google.com/assets/colab-badge.svg\" alt=\"Open In Colab\"/></a>"
      ]
    },
    {
      "cell_type": "code",
      "source": [
        "versiones_plone=[2.1,2.5,3.6,4,5,6,4]\n",
        "versiones_plone.index(9)"
      ],
      "metadata": {
        "id": "Z2z3GdYH8JQW"
      },
      "execution_count": null,
      "outputs": []
    },
    {
      "cell_type": "code",
      "source": [
        "versiones_plone=[2.1,2.5,3.6,4,5,6]\n",
        "print(versiones_plone)\n",
        "versiones_plone.insert(2,3.7)\n",
        "print(versiones_plone)\n",
        "versiones_plone.insert(6,6666)\n",
        "print(versiones_plone)"
      ],
      "metadata": {
        "id": "Gt1nosyY8Utw"
      },
      "execution_count": null,
      "outputs": []
    },
    {
      "cell_type": "code",
      "source": [
        "versiones_plone=[2.1,2.5,3.6,4,5,6]\n",
        "print(versiones_plone.pop())\n",
        "print(versiones_plone)"
      ],
      "metadata": {
        "id": "xUck0LUt8wow"
      },
      "execution_count": null,
      "outputs": []
    },
    {
      "cell_type": "code",
      "source": [
        "versiones_plone=[2.1,2.5,3.6,4,5,6]\n",
        "print(versiones_plone.pop(2))\n",
        "print(versiones_plone)"
      ],
      "metadata": {
        "id": "gpGUyEEbACr0"
      },
      "execution_count": null,
      "outputs": []
    },
    {
      "cell_type": "code",
      "source": [
        "versiones_plone=[2.1,2.5,3.6,4,5,6]\n",
        "print(versiones_plone)\n",
        "versiones_plone.remove(2.5)\n",
        "print(versiones_plone)"
      ],
      "metadata": {
        "id": "UEMtz0duBCVP"
      },
      "execution_count": null,
      "outputs": []
    },
    {
      "cell_type": "code",
      "source": [
        "versiones_plone=[2.1,2.5,3.6,4,5,6]\n",
        "print(versiones_plone)\n",
        "versiones_plone.remove(7)"
      ],
      "metadata": {
        "id": "dml5GTgSBbu9"
      },
      "execution_count": null,
      "outputs": []
    },
    {
      "cell_type": "code",
      "source": [
        "versiones_plone=[2.1,2.5,3.6,4,5,6]\n",
        "print(versiones_plone)\n",
        "versiones_plone.reverse()\n",
        "print(versiones_plone)"
      ],
      "metadata": {
        "id": "bHe5xONjBf8w"
      },
      "execution_count": null,
      "outputs": []
    },
    {
      "cell_type": "code",
      "source": [
        "versiones_plone=[4,2.5,5,3.6,2.1,6,]\n",
        "print(versiones_plone)\n",
        "versiones_plone.sort()\n",
        "print(versiones_plone)\n",
        "versiones_plone.sort(reverse=True)\n",
        "print(versiones_plone)"
      ],
      "metadata": {
        "id": "vveoGtOnC0qt"
      },
      "execution_count": null,
      "outputs": []
    },
    {
      "cell_type": "code",
      "source": [
        "versiones_plone=[4,2.5,5,3.6,2.1,6,\"A\"]\n",
        "print(versiones_plone)\n",
        "versiones_plone.sort()\n",
        "print(versiones_plone)\n",
        "versiones_plone.sort(reverse=True)\n",
        "print(versiones_plone)"
      ],
      "metadata": {
        "id": "w_OzYwWrCBfT"
      },
      "execution_count": null,
      "outputs": []
    },
    {
      "cell_type": "code",
      "source": [
        "versiones_plone=[\"A\",\"B\",\"F\",\"G\",\"C\",\"D\",\"E\"]\n",
        "print(versiones_plone)\n",
        "versiones_plone.sort()\n",
        "print(versiones_plone)\n",
        "versiones_plone.sort(reverse=True)\n",
        "print(versiones_plone)"
      ],
      "metadata": {
        "id": "LJsYz1ujC51n"
      },
      "execution_count": null,
      "outputs": []
    },
    {
      "cell_type": "code",
      "source": [
        "vocales=\"aeiou\"\n",
        "for letra in \"hermosa\":\n",
        "  if letra in vocales:\n",
        "    print(letra)"
      ],
      "metadata": {
        "id": "v5XBxAbjE8YE"
      },
      "execution_count": null,
      "outputs": []
    },
    {
      "cell_type": "code",
      "source": [
        "mensaje=\"Hola, como estas tu?\"\n",
        "mensaje.split()\n",
        "for palabra in mensaje.split():\n",
        "  print(palabra)"
      ],
      "metadata": {
        "id": "yzYJx7CQHH-8"
      },
      "execution_count": null,
      "outputs": []
    },
    {
      "cell_type": "code",
      "source": [
        "vocales=\"aeiou\"\n",
        "for letra in \"murcielago\":\n",
        "  if letra in vocales:\n",
        "    print(letra)"
      ],
      "metadata": {
        "id": "kHzWzqR5FzJv"
      },
      "execution_count": null,
      "outputs": []
    },
    {
      "cell_type": "code",
      "source": [
        "preguntas=[\"nombre\",\"objetivo\",\"sistema operativo\"]\n",
        "respuestas=[\"Leonardo\",\"aorender Python y Plone\",\"linux\"]\n",
        "for pregunta,respuesta in zip(preguntas,respuestas):\n",
        "  print(\"¿Cual es tu {0}?, la respuesta es:{1}\".format(pregunta,respuesta))"
      ],
      "metadata": {
        "id": "XDeQeNjbIR57"
      },
      "execution_count": null,
      "outputs": []
    }
  ]
}