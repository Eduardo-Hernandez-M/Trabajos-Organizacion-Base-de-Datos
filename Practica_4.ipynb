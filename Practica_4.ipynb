{
  "nbformat": 4,
  "nbformat_minor": 0,
  "metadata": {
    "colab": {
      "provenance": [],
      "authorship_tag": "ABX9TyPJataXg32X4QYE98wV/Zcp",
      "include_colab_link": true
    },
    "kernelspec": {
      "name": "python3",
      "display_name": "Python 3"
    },
    "language_info": {
      "name": "python"
    }
  },
  "cells": [
    {
      "cell_type": "markdown",
      "metadata": {
        "id": "view-in-github",
        "colab_type": "text"
      },
      "source": [
        "<a href=\"https://colab.research.google.com/github/Eduardo-Hernandez-M/Trabajos-Organizacion-Base-de-Datos/blob/main/Practica_4.ipynb\" target=\"_parent\"><img src=\"https://colab.research.google.com/assets/colab-badge.svg\" alt=\"Open In Colab\"/></a>"
      ]
    },
    {
      "cell_type": "code",
      "execution_count": null,
      "metadata": {
        "id": "Ex5mQUm1Fc9M"
      },
      "outputs": [],
      "source": [
        "continuar = 1\n",
        "alumnos=[]\n",
        "comida=[]\n",
        "bebida=[]\n",
        "mesas=[1,2]\n",
        "\n",
        "def menuPrincipal():\n",
        "    print (\"Bienvido al prgrama de registro de Alumnos, ¿Que vamos a hacer hoy?\")\n",
        "    print(\"----------------------------------------\")\n",
        "    print (\"1.Capturar datos del Alumno\")\n",
        "    print (\"2.Realizar pedido\")\n",
        "    print (\"3.Imprimir ordenes\")\n",
        "    print (\"4.Teminar el servicio\")\n",
        "    opcion = int(input(\"Ingresa la opcion deseada\\n->\"))\n",
        "    return opcion\n",
        "\n",
        "while continuar >=1 and continuar <=3:\n",
        "    opcion=menuPrincipal()\n",
        "    if opcion==1:\n",
        "        alumnos.append(input(\"Ingrese el nombre del alumno:\"))\n",
        "\n",
        "    elif opcion==2:\n",
        "        comida.append(input(\"Ingrese el platillo que quiere consumir:\"))\n",
        "        bebida.append(input(\"Ingrse que bebida va a tomar:\"))\n",
        "        mesas.append(input(\"Ingrese su numero de mesa\"))\n",
        "        mesas.insert(1,3)\n",
        "        print(alumnos.count)\n",
        "\n",
        "    elif opcion==3:\n",
        "        alumnos.reverse, comida.reverse, bebida.reverse\n",
        "        print(alumnos,comida,bebida)\n",
        "        alumnos.pop(),comida.pop(),bebida.pop()\n",
        "\n",
        "    elif opcion==4:\n",
        "        continuar=0\n",
        "print(\"Gracias por utilizar este programa, excelente día\")"
      ]
    }
  ]
}