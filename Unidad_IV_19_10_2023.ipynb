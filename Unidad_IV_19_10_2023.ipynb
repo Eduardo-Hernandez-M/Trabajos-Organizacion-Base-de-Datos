{
  "nbformat": 4,
  "nbformat_minor": 0,
  "metadata": {
    "colab": {
      "provenance": [],
      "authorship_tag": "ABX9TyN1F/jT20OLF2rfkCZ6AkgO",
      "include_colab_link": true
    },
    "kernelspec": {
      "name": "python3",
      "display_name": "Python 3"
    },
    "language_info": {
      "name": "python"
    }
  },
  "cells": [
    {
      "cell_type": "markdown",
      "metadata": {
        "id": "view-in-github",
        "colab_type": "text"
      },
      "source": [
        "<a href=\"https://colab.research.google.com/github/Eduardo-Hernandez-M/Trabajos-Organizacion-Base-de-Datos/blob/main/Unidad_IV_19_10_2023.ipynb\" target=\"_parent\"><img src=\"https://colab.research.google.com/assets/colab-badge.svg\" alt=\"Open In Colab\"/></a>"
      ]
    },
    {
      "cell_type": "code",
      "execution_count": 1,
      "metadata": {
        "id": "pOTXyNubjsws"
      },
      "outputs": [],
      "source": [
        "class ArbolBinarioBuesqueda():\n",
        "  def __init__(self):\n",
        "    self.raiz=None\n",
        "    self.tamano=0\n",
        "\n",
        "  def longitud(self):\n",
        "    return self.tamano\n",
        "\n",
        "  def __len__ (self):\n",
        "    return self.tamano\n",
        "\n",
        "  def __iter__ (self):\n",
        "    return self.raiz.__iter__()"
      ]
    },
    {
      "cell_type": "code",
      "source": [
        "class NodoArbol():\n",
        "  def __init__(self,clave,valor,izquierdo=None,derecho=None,padre=None):\n",
        "    self.clave=clave\n",
        "    self.cargaUtil=valor\n",
        "    self.hijoIzquierdo=izquierdo\n",
        "    self.hijoDerecho=derecho\n",
        "    self.padre=padre\n",
        "\n",
        "  def tieneHijoIzquierdo(self):\n",
        "    return self.hijoIzquierdo\n",
        "\n",
        "  def tieneHijoDerecho(self):\n",
        "    return self.hijoDerecho\n",
        "\n",
        "  def esHijoIzquierdo(self):\n",
        "    return self.padre and self.padre.hijoIzquierdo==self\n",
        "\n",
        "  def esHijoIzquierdo(self):\n",
        "    return self.padre and self.padre.hijoDerecho==self\n",
        "\n",
        "  def esRaiz(self):\n",
        "    return not self.padre\n",
        "\n",
        "  def esHoja(self):\n",
        "    return not (self.hijoDerecho or self.hijoIzquierdo)\n",
        "\n",
        "  def tieneAlgunHijo(self):\n",
        "    return self.hijoDerecho or self.hijoIzquierdo\n",
        "\n",
        "  def tieneAmbosHijos(self):\n",
        "    return self.hijoDerecho and self.hijoIzquierdo\n",
        "\n",
        "  def remplazarDatosDeNodo(self,clave,valor,hizq,hder):\n",
        "    self.clave=clave\n",
        "    self.cargaUtil=valor\n",
        "    self.hijoIzquierdo=hizq\n",
        "    self.hijoDerecho=hder\n",
        "    if self.tieneHijoIzquierdo():\n",
        "      self.hijoIzquierdo.padre=self\n",
        "    if self.tieneHijoDerecho():\n",
        "      self.hijoDerecho.padre=self"
      ],
      "metadata": {
        "id": "IZF4EkpcqnOS"
      },
      "execution_count": 2,
      "outputs": []
    },
    {
      "cell_type": "code",
      "source": [
        "def agregar(self,clave,valor):\n",
        "  if self.raiz:\n",
        "    self.agregar(clave,valor,self.raiz)\n",
        "  else:\n",
        "    self.raiz=NodoArbol(clave,valor)\n",
        "  self.tamano=self.tamano+1\n",
        "\n",
        "def _agregar(self,clave,valor,nodoActual):\n",
        "  if clave<nodoActual.clave:\n",
        "    if nodoActual.tieneHijoIzquierdo():\n",
        "      self._agregar(clave,valor,nodoActual.hijoIzquierdo)\n",
        "    else:\n",
        "      nodoActual.hijoIzquierdo=NodoArbol(clave,valor,padre=nodoActual)\n",
        "  else:\n",
        "    if nodoActual.tieneHijoDerecho():\n",
        "      self._agregar(clave,valor,nodoActual.hijoDerecho)\n",
        "    else:\n",
        "      nodoActual.hijoDerecho=NodoArbol(clave,valor,padre=nodoActual)"
      ],
      "metadata": {
        "id": "h9-EM2e-wu0j"
      },
      "execution_count": 3,
      "outputs": []
    },
    {
      "cell_type": "code",
      "source": [
        "def __setitem__(self,c,v):\n",
        "  self.agregar(c,v)"
      ],
      "metadata": {
        "id": "p9iX5QvMy1kZ"
      },
      "execution_count": null,
      "outputs": []
    },
    {
      "cell_type": "code",
      "source": [
        "class ArbolBinarioBuesqueda():\n",
        "  def __init__(self):\n",
        "    self.raiz=None\n",
        "    self.tamano=0\n",
        "\n",
        "  def longitud(self):\n",
        "    return self.tamano\n",
        "\n",
        "  def __len__ (self):\n",
        "    return self.tamano\n",
        "\n",
        "  def __iter__ (self):\n",
        "    return self.raiz.__iter__()\n",
        "\n",
        "class NodoArbol():\n",
        "  def __init__(self,clave,valor,izquierdo=None,derecho=None,padre=None):\n",
        "    self.clave=clave\n",
        "    self.cargaUtil=valor\n",
        "    self.hijoIzquierdo=izquierdo\n",
        "    self.hijoDerecho=derecho\n",
        "    self.padre=padre\n",
        "\n",
        "  def tieneHijoIzquierdo(self):\n",
        "    return self.hijoIzquierdo\n",
        "\n",
        "  def tieneHijoDerecho(self):\n",
        "    return self.hijoDerecho\n",
        "\n",
        "  def esHijoIzquierdo(self):\n",
        "    return self.padre and self.padre.hijoIzquierdo==self\n",
        "\n",
        "  def esHijoIzquierdo(self):\n",
        "    return self.padre and self.padre.hijoDerecho==self\n",
        "\n",
        "  def esRaiz(self):\n",
        "    return not self.padre\n",
        "\n",
        "  def esHoja(self):\n",
        "    return not (self.hijoDerecho or self.hijoIzquierdo)\n",
        "\n",
        "  def tieneAlgunHijo(self):\n",
        "    return self.hijoDerecho or self.hijoIzquierdo\n",
        "\n",
        "  def tieneAmbosHijos(self):\n",
        "    return self.hijoDerecho and self.hijoIzquierdo\n",
        "\n",
        "  def remplazarDatosDeNodo(self,clave,valor,hizq,hder):\n",
        "    self.clave=clave\n",
        "    self.cargaUtil=valor\n",
        "    self.hijoIzquierdo=hizq\n",
        "    self.hijoDerecho=hder\n",
        "    if self.tieneHijoIzquierdo():\n",
        "      self.hijoIzquierdo.padre=self\n",
        "    if self.tieneHijoDerecho():\n",
        "      self.hijoDerecho.padre=self\n",
        "\n",
        "  def agregar(self,clave,valor):\n",
        "    if self.raiz:\n",
        "      self.agregar(clave,valor,self.raiz)\n",
        "    else:\n",
        "      self.raiz=NodoArbol(clave,valor)\n",
        "    self.tamano=self.tamano+1\n",
        "\n",
        "  def _agregar(self,clave,valor,nodoActual):\n",
        "    if clave<nodoActual.clave:\n",
        "      if nodoActual.tieneHijoIzquierdo():\n",
        "        self._agregar(clave,valor,nodoActual.hijoIzquierdo)\n",
        "      else:\n",
        "        nodoActual.hijoIzquierdo=NodoArbol(clave,valor,padre=nodoActual)\n",
        "    else:\n",
        "      if nodoActual.tieneHijoDerecho():\n",
        "        self._agregar(clave,valor,nodoActual.hijoDerecho)\n",
        "      else:\n",
        "        nodoActual.hijoDerecho=NodoArbol(clave,valor,padre=nodoActual)\n",
        "\n",
        "  def __setitem__(self,c,v):\n",
        "    self.agregar(c,v)"
      ],
      "metadata": {
        "id": "kR6tIW2izCTl"
      },
      "execution_count": null,
      "outputs": []
    }
  ]
}