{
  "nbformat": 4,
  "nbformat_minor": 0,
  "metadata": {
    "colab": {
      "provenance": [],
      "authorship_tag": "ABX9TyMrxTxWBKR76VTkat0RDUas",
      "include_colab_link": true
    },
    "kernelspec": {
      "name": "python3",
      "display_name": "Python 3"
    },
    "language_info": {
      "name": "python"
    }
  },
  "cells": [
    {
      "cell_type": "markdown",
      "metadata": {
        "id": "view-in-github",
        "colab_type": "text"
      },
      "source": [
        "<a href=\"https://colab.research.google.com/github/Eduardo-Hernandez-M/Trabajos-Organizacion-Base-de-Datos/blob/main/Unidad_IV_17_10_2023.ipynb\" target=\"_parent\"><img src=\"https://colab.research.google.com/assets/colab-badge.svg\" alt=\"Open In Colab\"/></a>"
      ]
    },
    {
      "cell_type": "code",
      "execution_count": null,
      "metadata": {
        "id": "887_7SbfLgGs"
      },
      "outputs": [],
      "source": [
        "class Node:\n",
        "  def __init__(self,data):\n",
        "    self.left=None\n",
        "    self.right=None\n",
        "    self.data=data\n",
        "\n",
        "class BinaryTree:\n",
        "  def __init__(self, root):\n",
        "    self.root = Node(root)\n",
        "\n",
        "  def imprimir(self, node):\n",
        "    if node:\n",
        "      self.imprimir(node.left)\n",
        "      self.imprimir(node.right)\n",
        "      print(node.data)\n",
        "\n",
        "tree = BinaryTree(10)\n",
        "tree.root.left = Node(34)\n",
        "tree.root.right = Node(89)\n",
        "tree.root.left.left = Node(45)\n",
        "tree.root.left.right = Node(50)\n",
        "\n",
        "tree.imprimir(tree.root)"
      ]
    },
    {
      "cell_type": "code",
      "source": [
        "class Arbol:\n",
        "  def __init__(self):\n",
        "    self.der=None\n",
        "    self.izq=None\n",
        "    self.dato=None\n",
        "\n",
        "raiz=Arbol()\n",
        "raiz.dato='Raiz'\n",
        "raiz.izq=Arbol()\n",
        "raiz.izq.dato='Izquierda'\n",
        "raiz.der=Arbol()\n",
        "raiz.der.dato='Derecha'\n",
        "\n",
        "print(raiz.izq.dato)"
      ],
      "metadata": {
        "id": "B5WEro4aTNjz"
      },
      "execution_count": null,
      "outputs": []
    },
    {
      "cell_type": "code",
      "source": [
        "class Arbol:\n",
        "  def __init__(self):\n",
        "    self.der=None\n",
        "    self.izq=None\n",
        "    self.dato=None\n",
        "\n",
        "  def imprimir(self, arbol):\n",
        "    if arbol:\n",
        "      self.imprimir(arbol.izq)\n",
        "      self.imprimir(arbol.der)\n",
        "      print(arbol.dato)\n",
        "\n",
        "raiz=Arbol()\n",
        "raiz.dato='Raiz'\n",
        "raiz.izq=Arbol()\n",
        "raiz.izq.dato='Izquierda'\n",
        "raiz.der=Arbol()\n",
        "raiz.der.dato='Derecha'\n",
        "\n",
        "raiz.izq.izq=Arbol()\n",
        "raiz.izq.izq.dato='Izquierda2'\n",
        "raiz.izq.der=Arbol()\n",
        "raiz.izq.der.dato='Izquierda-Derecha'\n",
        "\n",
        "raiz.imprimir(raiz)"
      ],
      "metadata": {
        "id": "pW_UBuz3VyC4"
      },
      "execution_count": null,
      "outputs": []
    }
  ]
}