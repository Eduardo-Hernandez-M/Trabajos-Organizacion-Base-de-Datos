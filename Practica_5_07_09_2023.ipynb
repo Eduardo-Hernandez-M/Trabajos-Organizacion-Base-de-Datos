{
  "nbformat": 4,
  "nbformat_minor": 0,
  "metadata": {
    "colab": {
      "provenance": [],
      "authorship_tag": "ABX9TyNdd17amOhUalUG60iugIVM",
      "include_colab_link": true
    },
    "kernelspec": {
      "name": "python3",
      "display_name": "Python 3"
    },
    "language_info": {
      "name": "python"
    }
  },
  "cells": [
    {
      "cell_type": "markdown",
      "metadata": {
        "id": "view-in-github",
        "colab_type": "text"
      },
      "source": [
        "<a href=\"https://colab.research.google.com/github/Eduardo-Hernandez-M/Trabajos-Organizacion-Base-de-Datos/blob/main/Practica_5_07_09_2023.ipynb\" target=\"_parent\"><img src=\"https://colab.research.google.com/assets/colab-badge.svg\" alt=\"Open In Colab\"/></a>"
      ]
    },
    {
      "cell_type": "code",
      "execution_count": 5,
      "metadata": {
        "id": "KfIlAMvAT6N5"
      },
      "outputs": [],
      "source": [
        "class Pila:\n",
        "    def __init__(self):\n",
        "        \"Crea una pila vacia\"\n",
        "        self.items=[]\n",
        "\n",
        "    def apilar(self,x):\n",
        "        \"Agrega el elemento x a la pila\"\n",
        "        self.items.append(x)\n",
        "\n",
        "    def desapilar(self):\n",
        "        \"Devuelve el elemento tope y lo elimina de la pila\", \"Si la pila esta vacia levanta una excepción\"\n",
        "        try:\n",
        "            return(self.items.pop())\n",
        "        except IndexError:\n",
        "            raise ValueError(\"La pila esta vacia\")\n",
        "\n",
        "    def es_vacia(self):\n",
        "        \"Devuelve True si la lista esta vacía, False si no\"\n",
        "        return (self.items==[])"
      ]
    },
    {
      "cell_type": "code",
      "source": [
        "class Pila:\n",
        "    def __init__(self):\n",
        "        \"Crea una pila vacia\"\n",
        "        self.items=[]\n",
        "\n",
        "    def apilar(self,x):\n",
        "        \"Agrega el elemento x a la pila\"\n",
        "        self.items.append(x)\n",
        "\n",
        "    def desapilar(self):\n",
        "        \"Devuelve el elemento tope y lo elimina de la pila\", \"Si la pila esta vacia levanta una excepción\"\n",
        "        try:\n",
        "            return(self.items.pop())\n",
        "        except IndexError:\n",
        "            raise ValueError(\"La pila esta vacia\")\n",
        "\n",
        "    def es_vacia(self):\n",
        "        \"Devuelve True si la lista esta vacía, False si no\"\n",
        "        return (self.items==[])\n",
        "\n",
        "continuar = 1\n",
        "\n",
        "def menuPrincipal():\n",
        "    print (\"Bienvido al prgrama de registro de Alumnos, ¿Que vamos a hacer hoy?\")\n",
        "    print(\"----------------------------------------\")\n",
        "    print (\"1.Capturar datos del Alumno\")\n",
        "    print (\"2.Realizar pedido\")\n",
        "    print (\"3.Imprimir ordenes\")\n",
        "    print (\"4.Teminar el servicio\")\n",
        "    opcion = int(input(\"Ingresa la opcion deseada\\n->\"))\n",
        "    return opcion\n",
        "\n",
        "while continuar >=1 and continuar <=3:\n",
        "    opcion=menuPrincipal()\n",
        "    if opcion==1:\n",
        "        pass\n",
        "    elif opcion==2:\n",
        "        pass\n",
        "\n",
        "    elif opcion==3:\n",
        "        pass\n",
        "\n",
        "    elif opcion==4:\n",
        "        continuar=0\n",
        "print(\"Gracias por utilizar este programa, excelente día\")"
      ],
      "metadata": {
        "id": "UQ-pdrXKWcuG"
      },
      "execution_count": null,
      "outputs": []
    }
  ]
}