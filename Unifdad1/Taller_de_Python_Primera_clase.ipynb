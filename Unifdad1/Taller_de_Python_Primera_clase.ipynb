{
  "nbformat": 4,
  "nbformat_minor": 0,
  "metadata": {
    "colab": {
      "provenance": [],
      "include_colab_link": true
    },
    "kernelspec": {
      "name": "python3",
      "display_name": "Python 3"
    },
    "language_info": {
      "name": "python"
    }
  },
  "cells": [
    {
      "cell_type": "markdown",
      "metadata": {
        "id": "view-in-github",
        "colab_type": "text"
      },
      "source": [
        "<a href=\"https://colab.research.google.com/github/Eduardo-Hernandez-M/Trabajos-Organizacion-Base-de-Datos/blob/main/Unifdad1/Taller_de_Python_Primera_clase.ipynb\" target=\"_parent\"><img src=\"https://colab.research.google.com/assets/colab-badge.svg\" alt=\"Open In Colab\"/></a>"
      ]
    },
    {
      "cell_type": "code",
      "source": [
        "from ast import increment_lineno\n",
        "import pandas as pd               #Library to show data sets- importsr datos\n",
        "import matplotlib.pyplot as plt   #Para gráficas estadisticas\n",
        "import seaborn as sns             #Para gráficas de alta calidad\n",
        "%matplotlib inline\n",
        "import numpy as np                #Matemathic things"
      ],
      "metadata": {
        "id": "s78nYxuGcehZ"
      },
      "execution_count": null,
      "outputs": []
    },
    {
      "cell_type": "code",
      "source": [
        "df=pd.read_csv(\"data_fifa.csv\") #Para cargar el archivo de ccv a data frame\n",
        "df"
      ],
      "metadata": {
        "id": "t4muUOLmp_7M"
      },
      "execution_count": null,
      "outputs": []
    },
    {
      "cell_type": "code",
      "source": [
        "df.columns  #Describe la columnas del data frame"
      ],
      "metadata": {
        "id": "XjJuWvkXvQm_"
      },
      "execution_count": null,
      "outputs": []
    },
    {
      "cell_type": "code",
      "source": [
        "sns.boxplot(data=df,x=\"Age\",y=\"Potential\")  #Encerarlo dentro de una tabla"
      ],
      "metadata": {
        "id": "pn9LGosowNyn"
      },
      "execution_count": null,
      "outputs": []
    },
    {
      "cell_type": "code",
      "source": [
        "#Para visualizar mejor la distribución de los dastos\n",
        "plt.figure(figsize=[10,5])\n",
        "sns.boxplot(data=df,x=\"Age\",y=\"Potential\")"
      ],
      "metadata": {
        "id": "iPSFOEHE1vSc"
      },
      "execution_count": null,
      "outputs": []
    },
    {
      "cell_type": "code",
      "source": [
        "#En el gráfico podemos observar los valores mínimos y mmaximos.\n",
        "#Para buscar el registro\n",
        "df[df['Potential']==df['Potential'].max()]"
      ],
      "metadata": {
        "id": "ZfldqOFW3ukD"
      },
      "execution_count": null,
      "outputs": []
    },
    {
      "cell_type": "code",
      "source": [
        "#Los parametros es el data y el eje\n",
        "plt.hist(data=df,x=\"Potential\")"
      ],
      "metadata": {
        "id": "3uInwTdY6Wsq"
      },
      "execution_count": null,
      "outputs": []
    },
    {
      "cell_type": "code",
      "source": [
        "#Si queremos utilizar más diciones utilizamps el argumento llamado bins\n",
        "#Arange determina el rango de una lista ordenada\n",
        "np.arange(0,100,1)\n",
        "plt.hist(data=df,x=\"Potential\")"
      ],
      "metadata": {
        "id": "4kGdbXVO7Lkh"
      },
      "execution_count": null,
      "outputs": []
    },
    {
      "cell_type": "code",
      "source": [
        "#Para que arrange funcione necesitamos visualizar el valor mínimo y máximo de la columna\n",
        "print(df[\"Potential\"].describe())"
      ],
      "metadata": {
        "id": "uyGtiSIp8kvH"
      },
      "execution_count": null,
      "outputs": []
    },
    {
      "cell_type": "code",
      "source": [
        "#Con estos datos podemos establecerlos valore mínimos y máximos de nuestra gráfica\n",
        "bins_base=np.arange(45,df['Potential'].max()+10,5)\n",
        "plt.hist(data=df,x=\"Potential\",bins=bins_base);"
      ],
      "metadata": {
        "id": "-ynhVzE19bpo"
      },
      "execution_count": null,
      "outputs": []
    },
    {
      "cell_type": "code",
      "source": [
        "sns.displot(df['Potential'])"
      ],
      "metadata": {
        "id": "KU3ufbF6-iaX"
      },
      "execution_count": null,
      "outputs": []
    },
    {
      "cell_type": "code",
      "source": [
        "#Utilizamos una gráfica de dispersión\n",
        "plt.scatter(data=df,x=\"BallControl\",y=\"Dribbling\")"
      ],
      "metadata": {
        "id": "exppdnePmYtl"
      },
      "execution_count": null,
      "outputs": []
    },
    {
      "cell_type": "code",
      "source": [
        "#Agregar etiquetas\n",
        "plt.scatter(data=df,x=\"BallControl\",y=\"Dribbling\")\n",
        "plt.xlabel('Control del Balon')\n",
        "plt.ylabel('Tecnica del jugador')\n",
        "#Podemos observar que se tiene una relación positiva"
      ],
      "metadata": {
        "id": "qJVN2vmgqZZz"
      },
      "execution_count": null,
      "outputs": []
    },
    {
      "cell_type": "code",
      "source": [
        "#Usar gráfica de calor\n",
        "bins_base=np.arange(45,df['Potential'].max()+10,5)\n",
        "print(bins_base)\n",
        "plt.hist2d(data=df,x=\"Potential\",y=\"Age\");"
      ],
      "metadata": {
        "id": "uvWR1mIJrr_6"
      },
      "execution_count": null,
      "outputs": []
    },
    {
      "cell_type": "code",
      "source": [
        "#Para saber el significado de los colores\n",
        "bins_base=np.arange(45,df['Potential'].max()+10,5)\n",
        "print(bins_base)\n",
        "plt.hist2d(data=df,x=\"Potential\",y=\"Age\");\n",
        "plt.colorbar();"
      ],
      "metadata": {
        "id": "GwU_qWVEvDE4"
      },
      "execution_count": null,
      "outputs": []
    },
    {
      "cell_type": "code",
      "source": [
        "#Paso 1 y 2\n",
        "print(df['Age'].isnull().any(),df['Potential'].isnull().any())"
      ],
      "metadata": {
        "id": "_ZmCVIZHwRX3"
      },
      "execution_count": null,
      "outputs": []
    },
    {
      "cell_type": "code",
      "source": [
        "#Paso 1 y 2\n",
        "plt.scatter(data=df,x=\"Age\",y='Potential')\n",
        "plt.xlabel('Edad')\n",
        "plt.ylabel('Potencial')"
      ],
      "metadata": {
        "id": "rOmFUUv9x9LP"
      },
      "execution_count": null,
      "outputs": []
    },
    {
      "cell_type": "code",
      "source": [
        "#Dividimos para llenar las 4 variables\n",
        "x_train,x_test,y_train,y_test=train_test_split(df['Age'],df['Potential'],test_size=0.3);"
      ],
      "metadata": {
        "id": "iMJkXTlI46L7"
      },
      "execution_count": null,
      "outputs": []
    },
    {
      "cell_type": "code",
      "source": [
        "from sklearn.linear_model import LinearRegression"
      ],
      "metadata": {
        "id": "Wvv-_gJY7yoJ"
      },
      "execution_count": null,
      "outputs": []
    }
  ]
}