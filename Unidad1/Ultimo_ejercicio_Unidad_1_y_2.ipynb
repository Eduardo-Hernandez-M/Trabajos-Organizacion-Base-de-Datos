{
  "nbformat": 4,
  "nbformat_minor": 0,
  "metadata": {
    "colab": {
      "provenance": [],
      "authorship_tag": "ABX9TyPi0o/UN9kkw68UA4O1GNpu",
      "include_colab_link": true
    },
    "kernelspec": {
      "name": "python3",
      "display_name": "Python 3"
    },
    "language_info": {
      "name": "python"
    }
  },
  "cells": [
    {
      "cell_type": "markdown",
      "metadata": {
        "id": "view-in-github",
        "colab_type": "text"
      },
      "source": [
        "<a href=\"https://colab.research.google.com/github/Eduardo-Hernandez-M/Trabajos-Organizacion-Base-de-Datos/blob/main/Ultimo_ejercicio_Unidad_1_y_2.ipynb\" target=\"_parent\"><img src=\"https://colab.research.google.com/assets/colab-badge.svg\" alt=\"Open In Colab\"/></a>"
      ]
    },
    {
      "cell_type": "code",
      "execution_count": null,
      "metadata": {
        "id": "tKSOT1jwSI57"
      },
      "outputs": [],
      "source": [
        "class Pedido:\n",
        "  def __init__(self,nombre_comprador,nombre_producto,cantidad):\n",
        "    self.nombre_comprador=nombre_comprador\n",
        "    self.nombre_producto=nombre_producto\n",
        "    self.cantidad=cantidad\n",
        "\n",
        "class Garnachas:\n",
        "  def __init__ (self):\n",
        "    self.pedido=[]\n",
        "    self.entergado=[]\n",
        "\n",
        "  def tomar_pedido(self, Pedido):\n",
        "    self.pedido.append(Pedido)\n",
        "\n",
        "  def completar_pedido(self):\n",
        "    if self.pedido:\n",
        "      pedido=self.pedido.pop(0)\n",
        "      print(f\"El pedido de {pedido.nombre_comprador} de {pedido.cantidad} de {pedido.nombre_producto} ha sido completado\")\n",
        "\n",
        "  def imprimir_pedidos_completados(self):\n",
        "    print(\"Los pedidos que ya fueron servidos son:\")\n",
        "    for pedido in self.pedido:\n",
        "      print(f\"{pedido.nombre_comprador} ({pedido.nombre_producto}, {pedido.cantidad})\")\n",
        "\n",
        "def main():\n",
        "  garnachas=Garnachas()\n",
        "\n",
        "  while True:\n",
        "    print(\"Bienvenido a las garnachas del Finix donde cada vez que se acabe vuelve a ver, digame en que le podemos servir:\")\n",
        "    print(\"1. Tomar el pedido\")\n",
        "    print(\"2. Entregar el pedido\")\n",
        "    print(\"3. Agregar más al pedido\")\n",
        "    print(\"4. Pedir la cuenta\")\n",
        "\n",
        "    opcion=int(input(\"Ingrese la opción que desea tomar:\"))\n",
        "\n",
        "    if opcion==1:\n",
        "      nombre_comprador=input(\"Nombre a quien le pertenece el pedido:\")\n",
        "      nombre_producto=input(\"Que desea consumir el dia de hoy:\")\n",
        "      cantidad=int(input(\"Cuantas va a querer:\"))\n",
        "      pedido=Pedido(nombre_comprador, nombre_producto, cantidad)\n",
        "      print(\"Listo en un momento se lo servimos\")\n",
        "\n",
        "    if opcion==2:\n",
        "      garnachas.completar_pedido()\n",
        "\n",
        "    if opcion==3:\n",
        "      pass\n",
        "\n",
        "    if opcion==4:\n",
        "      print(\"Muchas gracias por su preferencia, la cuenta se le traera a la brevedad posible\")\n",
        "      print(Garnachas.imprimir_pedidos_completados(pedido))\n",
        "\n",
        "if __name__ ==\"__main__\":\n",
        "  main()\n",
        "\n",
        "#Dar de alta, borrar y agregar un producto"
      ]
    }
  ]
}