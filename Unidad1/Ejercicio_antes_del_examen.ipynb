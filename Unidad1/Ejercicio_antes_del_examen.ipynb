{
  "nbformat": 4,
  "nbformat_minor": 0,
  "metadata": {
    "colab": {
      "provenance": [],
      "authorship_tag": "ABX9TyMTnpik6CrQdtgypqKUqP/z",
      "include_colab_link": true
    },
    "kernelspec": {
      "name": "python3",
      "display_name": "Python 3"
    },
    "language_info": {
      "name": "python"
    }
  },
  "cells": [
    {
      "cell_type": "markdown",
      "metadata": {
        "id": "view-in-github",
        "colab_type": "text"
      },
      "source": [
        "<a href=\"https://colab.research.google.com/github/Eduardo-Hernandez-M/Trabajos-Organizacion-Base-de-Datos/blob/main/Ejercicio_antes_del_examen.ipynb\" target=\"_parent\"><img src=\"https://colab.research.google.com/assets/colab-badge.svg\" alt=\"Open In Colab\"/></a>"
      ]
    },
    {
      "cell_type": "code",
      "execution_count": null,
      "metadata": {
        "id": "DgrBISJACTyq"
      },
      "outputs": [],
      "source": [
        "class Pedido:\n",
        "  def __init__(self,nombre_alumno,nombre_producto,cantidad):\n",
        "    self.nombre_alumno=nombre_alumno\n",
        "    self.nombre_producto=nombre_producto\n",
        "    self.cantidad=cantidad\n",
        "\n",
        "class Cafeteria:\n",
        "  def __init__ (self):\n",
        "    self.pedido_alumno=[]\n",
        "    self.entergado=[]\n",
        "\n",
        "  def tomar_pedido(self, Pedido):\n",
        "    self.pedido_alumno.append(Pedido)\n",
        "\n",
        "  def completar_pedido(self):\n",
        "    if self.pedido_alumno:\n",
        "      pedido=self.pedido_alumno.pop(0)\n",
        "      print(f\"El pedido de {pedido.nombre_alumno} de {pedido.cantidad} de {pedido.nombre_producto} ha sido completado\")\n",
        "\n",
        "  def contar_pedidos(self):\n",
        "    return len(self.pedido_alumno)\n",
        "\n",
        "  def imprimir_pedidos_pendientes(self):\n",
        "    print(\"Los pedidos que faltan de servir son:\")\n",
        "    for pedido in self.pedido_alumno:\n",
        "      print(f\"{pedido.nombre_alumno} ({pedido.nombre_producto}, {pedido.cantidad}) \")\n",
        "\n",
        "  def imprimir_pedidos_completados(self):\n",
        "    print(\"Los pedidos que ya fueron servidos son:\")\n",
        "    for pedido in self.pedido_alumno:\n",
        "      print(f\"{pedido.nombre_alumno} ({pedido.nombre_producto}, {pedido.cantidad})\")\n",
        "\n",
        "  def proceso_pedido(self):\n",
        "    if self.pedido_alumno==0:\n",
        "      print(\"Ya no hay pedidos pendientes\")\n",
        "    else:\n",
        "      self.completar_pedido()\n",
        "\n",
        "def main():\n",
        "  cafeteria=Cafeteria()\n",
        "\n",
        "  while True:\n",
        "    print(\"Bienvenido a la cafeteria, digame en que le podemos ayudar:\")\n",
        "    print(\"1. Tomar el pedido\")\n",
        "    print(\"2. Entregar Pedido\")\n",
        "    print(\"3. Contar los pedidos pendientes\")\n",
        "    print(\"4. Imprimir pedidos pendientes\")\n",
        "    print(\"5. Imprimir pedidos completados\")\n",
        "    print(\"6. Cambiar un pedido de lugar por preferencia\")\n",
        "    print(\"7. Pedido Urgente\")\n",
        "    print(\"8. Proceso del pedido\")\n",
        "    print(\"9. Salir de la cafeteria\")\n",
        "\n",
        "    opcion=int(input(\"Ingrese la opción que desea aplicar\"))\n",
        "\n",
        "    if opcion==1:\n",
        "      pass\n",
        "\n",
        "    if opcion==2:\n",
        "      pass\n",
        "\n",
        "    if opcion==3:\n",
        "      pass\n",
        "\n",
        "    if opcion==4:\n",
        "      pass\n",
        "\n",
        "    if opcion==5:\n",
        "      pass\n",
        "\n",
        "    if opcion==6:\n",
        "      pass\n",
        "\n",
        "    if opcion==7:\n",
        "      pass\n",
        "\n",
        "    if opcion==8:\n",
        "      pass\n",
        "\n",
        "    if opcion==9:\n",
        "      pass\n",
        "print(\"Es todo por hoy, hasta luego excelente día\")"
      ]
    }
  ]
}