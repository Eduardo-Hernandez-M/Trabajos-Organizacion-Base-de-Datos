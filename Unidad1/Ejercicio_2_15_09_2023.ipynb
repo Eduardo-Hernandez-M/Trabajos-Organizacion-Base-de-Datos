{
  "nbformat": 4,
  "nbformat_minor": 0,
  "metadata": {
    "colab": {
      "provenance": [],
      "authorship_tag": "ABX9TyMuKKsV4HPQOT7a58A1Vu60",
      "include_colab_link": true
    },
    "kernelspec": {
      "name": "python3",
      "display_name": "Python 3"
    },
    "language_info": {
      "name": "python"
    }
  },
  "cells": [
    {
      "cell_type": "markdown",
      "metadata": {
        "id": "view-in-github",
        "colab_type": "text"
      },
      "source": [
        "<a href=\"https://colab.research.google.com/github/Eduardo-Hernandez-M/Trabajos-Organizacion-Base-de-Datos/blob/main/Ejercicio_2_15_09_2023.ipynb\" target=\"_parent\"><img src=\"https://colab.research.google.com/assets/colab-badge.svg\" alt=\"Open In Colab\"/></a>"
      ]
    },
    {
      "cell_type": "code",
      "execution_count": null,
      "metadata": {
        "id": "78pVmbEpMHRj"
      },
      "outputs": [],
      "source": [
        "import random\n",
        "\n",
        "def aleatorio(self):\n",
        "  numero=random.choice(range(1,1000))\n",
        "\n",
        "def jugar(intento=1):\n",
        "  respuesta=int(input(\"Qué número del 1 al 1000 estoy pensando:\"))\n",
        "  if respuesta != num:\n",
        "    print(\"Estas en tu\",intento,\"intento\")\n",
        "    if intento<10:\n",
        "      if respuesta>num:\n",
        "          print(\"El número escrito es mayor que el pensado\")\n",
        "      if respuesta<num:\n",
        "          print(\"El número escrito en menor al pensado \")\n",
        "      intento+=1\n",
        "      jugar(intento)\n",
        "    else:\n",
        "      print(\"\\n Perdiste, el número pensado era\",num)\n",
        "  else:\n",
        "    print(\"\\n Ganaste en el intento\",intento)\n",
        "\n",
        "aleatorio()\n",
        "jugar()"
      ]
    }
  ]
}