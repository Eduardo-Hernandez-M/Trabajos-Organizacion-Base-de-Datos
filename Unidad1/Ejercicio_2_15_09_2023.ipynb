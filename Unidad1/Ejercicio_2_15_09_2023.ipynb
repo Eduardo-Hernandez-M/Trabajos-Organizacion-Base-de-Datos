{
  "nbformat": 4,
  "nbformat_minor": 0,
  "metadata": {
    "colab": {
      "provenance": [],
      "authorship_tag": "ABX9TyMEemG3Hqy168txF50K4+uF",
      "include_colab_link": true
    },
    "kernelspec": {
      "name": "python3",
      "display_name": "Python 3"
    },
    "language_info": {
      "name": "python"
    }
  },
  "cells": [
    {
      "cell_type": "markdown",
      "metadata": {
        "id": "view-in-github",
        "colab_type": "text"
      },
      "source": [
        "<a href=\"https://colab.research.google.com/github/Eduardo-Hernandez-M/Trabajos-Organizacion-Base-de-Datos/blob/main/Ejercicio_2_15_09_2023.ipynb\" target=\"_parent\"><img src=\"https://colab.research.google.com/assets/colab-badge.svg\" alt=\"Open In Colab\"/></a>"
      ]
    },
    {
      "cell_type": "code",
      "execution_count": 11,
      "metadata": {
        "colab": {
          "base_uri": "https://localhost:8080/"
        },
        "id": "78pVmbEpMHRj",
        "outputId": "97a23576-5d3e-4781-b46a-a9227fa65fc6"
      },
      "outputs": [
        {
          "output_type": "stream",
          "name": "stdout",
          "text": [
            "Qué número del 1 al 1000 estoy pensando:256\n",
            "El número escrito en menor al pensado \n",
            "Qué número del 1 al 1000 estoy pensando:231\n",
            "El número escrito en menor al pensado \n",
            "Qué número del 1 al 1000 estoy pensando:95\n",
            "El número escrito en menor al pensado \n",
            "Qué número del 1 al 1000 estoy pensando:32\n",
            "El número escrito en menor al pensado \n",
            "Qué número del 1 al 1000 estoy pensando:95\n",
            "El número escrito en menor al pensado \n",
            "Qué número del 1 al 1000 estoy pensando:73\n",
            "El número escrito en menor al pensado \n",
            "Qué número del 1 al 1000 estoy pensando:59\n",
            "El número escrito en menor al pensado \n",
            "Qué número del 1 al 1000 estoy pensando:10\n",
            "El número escrito en menor al pensado \n",
            "Qué número del 1 al 1000 estoy pensando:1\n",
            "El número escrito en menor al pensado \n",
            "Qué número del 1 al 1000 estoy pensando:79\n",
            "\n",
            " Perdiste, el número pensado era 830\n"
          ]
        }
      ],
      "source": [
        "import random\n",
        "\n",
        "def jugar(intento=1):\n",
        "    respuesta=int(input(\"Qué número del 1 al 1000 estoy pensando:\"))\n",
        "    numero=random.choice(range(1,1000))\n",
        "    if respuesta != numero:\n",
        "      if intento<10:\n",
        "        if respuesta>numero:\n",
        "          print(\"El número escrito es mayor que el pensado\")\n",
        "        if respuesta<numero:\n",
        "          print(\"El número escrito en menor al pensado \")\n",
        "        intento+=1\n",
        "        jugar(intento)\n",
        "      else:\n",
        "        print(\"\\n Perdiste, el número pensado era\",numero)\n",
        "    else:\n",
        "      print(\"\\n Ganaste en el intento\",intento)\n",
        "\n",
        "jugar()"
      ]
    }
  ]
}