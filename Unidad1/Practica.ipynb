{
  "nbformat": 4,
  "nbformat_minor": 0,
  "metadata": {
    "colab": {
      "provenance": [],
      "authorship_tag": "ABX9TyNp8fahLWHMx4W+1OETvL/U",
      "include_colab_link": true
    },
    "kernelspec": {
      "name": "python3",
      "display_name": "Python 3"
    },
    "language_info": {
      "name": "python"
    }
  },
  "cells": [
    {
      "cell_type": "markdown",
      "metadata": {
        "id": "view-in-github",
        "colab_type": "text"
      },
      "source": [
        "<a href=\"https://colab.research.google.com/github/Eduardo-Hernandez-M/Trabajos-Organizacion-Base-de-Datos/blob/main/Unidad1/Practica.ipynb\" target=\"_parent\"><img src=\"https://colab.research.google.com/assets/colab-badge.svg\" alt=\"Open In Colab\"/></a>"
      ]
    },
    {
      "cell_type": "code",
      "execution_count": null,
      "metadata": {
        "id": "c8mDdB_LGXPg"
      },
      "outputs": [],
      "source": [
        "factura=[\"pan\",\"huevos\",100,1234]\n",
        "print(factura)\n",
        "print(factura[-1])\n",
        "print(len(factura)-0)\n",
        "factura[-len(factura)]"
      ]
    },
    {
      "cell_type": "code",
      "source": [
        "factura[1]=\"carne\"\n",
        "factura"
      ],
      "metadata": {
        "id": "dtQ3cjpsUixA"
      },
      "execution_count": null,
      "outputs": []
    },
    {
      "cell_type": "code",
      "source": [
        "viaje=[\"Lalo\",\"lalo\"]\n",
        "viaje\n",
        "viaje[1]=\"Daniel\"\n",
        "viaje"
      ],
      "metadata": {
        "id": "TYS92GA2U2aR"
      },
      "execution_count": null,
      "outputs": []
    },
    {
      "cell_type": "code",
      "source": [
        "versiones_plone=[2.5,3.6,4,5]\n",
        "print(versiones_plone)\n",
        "versiones_plone.append(6)\n",
        "print(versiones_plone)\n",
        "versiones_plone.append(\"Hola\")\n",
        "print(versiones_plone)\n",
        "len(versiones_plone)"
      ],
      "metadata": {
        "id": "p_yFRmiWVf8c"
      },
      "execution_count": null,
      "outputs": []
    },
    {
      "cell_type": "code",
      "source": [
        "fiesta=[\"Daniel\",\"Rodrigo\",\"Eduardo\"]\n",
        "print(fiesta)\n",
        "fiesta.append([\"Domingo\",\"Juan\"])\n",
        "print(fiesta)"
      ],
      "metadata": {
        "id": "mFSgDxXSXP5x"
      },
      "execution_count": null,
      "outputs": []
    },
    {
      "cell_type": "code",
      "source": [
        "versiones_plone=[2.1,2.5,3.6,4,5,6]\n",
        "print(\"6->\"),versiones_plone.count(6)\n",
        "print(\"2.5->\"),versiones_plone.count(2.5)"
      ],
      "metadata": {
        "id": "FhWstEyCYQ5A"
      },
      "execution_count": null,
      "outputs": []
    },
    {
      "cell_type": "code",
      "source": [
        "versiones_plone=[2.1,2.5,3.6]\n",
        "print(versiones_plone)\n",
        "versiones_plone.extend([4])\n",
        "print(versiones_plone)\n",
        "versiones_plone.extend(range(5,7))\n",
        "print(versiones_plone)"
      ],
      "metadata": {
        "colab": {
          "base_uri": "https://localhost:8080/"
        },
        "id": "xDPkFNZlZAOi",
        "outputId": "ea77fc78-b6e6-4b90-dd61-bca393112dbf"
      },
      "execution_count": 34,
      "outputs": [
        {
          "output_type": "stream",
          "name": "stdout",
          "text": [
            "[2.1, 2.5, 3.6]\n",
            "[2.1, 2.5, 3.6, 4]\n",
            "[2.1, 2.5, 3.6, 4, 5, 6]\n"
          ]
        }
      ]
    }
  ]
}