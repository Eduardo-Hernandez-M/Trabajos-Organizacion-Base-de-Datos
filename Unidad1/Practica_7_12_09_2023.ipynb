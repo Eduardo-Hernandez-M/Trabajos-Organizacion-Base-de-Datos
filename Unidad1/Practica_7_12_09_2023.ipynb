{
  "nbformat": 4,
  "nbformat_minor": 0,
  "metadata": {
    "colab": {
      "provenance": [],
      "authorship_tag": "ABX9TyOt+rmsgtO0CMb3+LnU6XQl",
      "include_colab_link": true
    },
    "kernelspec": {
      "name": "python3",
      "display_name": "Python 3"
    },
    "language_info": {
      "name": "python"
    }
  },
  "cells": [
    {
      "cell_type": "markdown",
      "metadata": {
        "id": "view-in-github",
        "colab_type": "text"
      },
      "source": [
        "<a href=\"https://colab.research.google.com/github/Eduardo-Hernandez-M/Trabajos-Organizacion-Base-de-Datos/blob/main/Practica_7_12_09_2023.ipynb\" target=\"_parent\"><img src=\"https://colab.research.google.com/assets/colab-badge.svg\" alt=\"Open In Colab\"/></a>"
      ]
    },
    {
      "cell_type": "code",
      "source": [
        "class nodo:\n",
        "  def __init__(self, data=None, next=None):\n",
        "    self.data= data\n",
        "    self.next= next\n",
        "\n",
        "class listaenlazada:\n",
        "  def __init__(self):\n",
        "    self.head= None\n",
        "\n",
        "  def add_at_front(self,data):\n",
        "    self.head= nodo(data=data, next=self.head)\n",
        "\n",
        "  def esta_vacio(self):\n",
        "    return self.head==None\n",
        "\n",
        "  def add_at_end(self, data):\n",
        "    if not self.head:\n",
        "      self.head= nodo(data=data)\n",
        "      return\n",
        "      curr= self.head\n",
        "      while curr and curr.data !=key:\n",
        "        curr=curr.next\n",
        "      curr.next=nodo(data=data)\n",
        "\n",
        "  def borrarnodo(self, key):\n",
        "    curr= self.head\n",
        "    prev= None\n",
        "    while curr and curr.data !=key:\n",
        "      prev= curr\n",
        "      curr=curr.next\n",
        "    if prev is None:\n",
        "      self.head= curr.next\n",
        "    elif curr:\n",
        "      prev.next= curr.next\n",
        "      curr.next= None\n",
        "\n",
        "  def get_last_node(self):\n",
        "    temp=self.head\n",
        "    while (temp.next is not None):\n",
        "      temp= temp.next\n",
        "    return temp.data\n",
        "\n",
        "  def imprimirlista(self):\n",
        "    nodo=self.head\n",
        "    while nodo!= None:\n",
        "      print(nodo.data, end=\"===>\")\n",
        "      nodo=nodo.next\n",
        "\n",
        "alumnos=listaenlazada()\n",
        "alumnos.add_at_front(\"Profesor Domingo\")\n",
        "alumnos.add_at_end(\"Rodrigo Leal\")\n",
        "alumnos.add_at_front(\"Juancarlos Bodoque\")\n",
        "\n",
        "alumnos.borrarnodo(\"Rodrigo Leal\")\n",
        "alumnos.add_at_front(\"56\")\n",
        "alumnos.imprimirlista()"
      ],
      "metadata": {
        "colab": {
          "base_uri": "https://localhost:8080/"
        },
        "id": "s5yqVYu_DZpl",
        "outputId": "6b29fdbb-d2ab-4cff-a03e-a244eec5fa02"
      },
      "execution_count": 7,
      "outputs": [
        {
          "output_type": "stream",
          "name": "stdout",
          "text": [
            "56===>Juancarlos Bodoque===>Profesor Domingo===>"
          ]
        }
      ]
    }
  ]
}