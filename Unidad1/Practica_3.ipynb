{
  "nbformat": 4,
  "nbformat_minor": 0,
  "metadata": {
    "colab": {
      "provenance": [],
      "authorship_tag": "ABX9TyMp2Rv+uOSwAF/bOOAxP2kN",
      "include_colab_link": true
    },
    "kernelspec": {
      "name": "python3",
      "display_name": "Python 3"
    },
    "language_info": {
      "name": "python"
    }
  },
  "cells": [
    {
      "cell_type": "markdown",
      "metadata": {
        "id": "view-in-github",
        "colab_type": "text"
      },
      "source": [
        "<a href=\"https://colab.research.google.com/github/Eduardo-Hernandez-M/Trabajos-Organizacion-Base-de-Datos/blob/main/Practica_3.ipynb\" target=\"_parent\"><img src=\"https://colab.research.google.com/assets/colab-badge.svg\" alt=\"Open In Colab\"/></a>"
      ]
    },
    {
      "cell_type": "code",
      "execution_count": null,
      "metadata": {
        "id": "-EuOUw6YXzNj",
        "outputId": "dd6e371e-244e-47f4-a2ea-539c697bdb0c",
        "colab": {
          "base_uri": "https://localhost:8080/"
        }
      },
      "outputs": [
        {
          "output_type": "stream",
          "name": "stdout",
          "text": [
            "Bienvido al prgrama de registro de Alumnos, ¿Que vamos a hacer hoy?\n",
            "----------------------------------------\n",
            "1.Capturar datos del Alumno\n",
            "2.Realizar pedido\n",
            "3.Imprimir ordenes\n",
            "4.Teminar el servicio\n",
            "Ingresa la opcion deseada\n",
            "->5\n",
            "Bienvido al prgrama de registro de Alumnos, ¿Que vamos a hacer hoy?\n",
            "----------------------------------------\n",
            "1.Capturar datos del Alumno\n",
            "2.Realizar pedido\n",
            "3.Imprimir ordenes\n",
            "4.Teminar el servicio\n",
            "Ingresa la opcion deseada\n",
            "->4\n",
            "Gracias por utilizar este programa, excelente día\n"
          ]
        }
      ],
      "source": [
        "continuar = 1\n",
        "alumnos=[]\n",
        "comida=[]\n",
        "bebida=[]\n",
        "\n",
        "def menuPrincipal():\n",
        "    print (\"Bienvido al prgrama de registro de Alumnos, ¿Que vamos a hacer hoy?\")\n",
        "    print(\"----------------------------------------\")\n",
        "    print (\"1.Capturar datos del Alumno\")\n",
        "    print (\"2.Realizar pedido\")\n",
        "    print (\"3.Imprimir ordenes\")\n",
        "    print (\"4.Teminar el servicio\")\n",
        "    opcion = int(input(\"Ingresa la opcion deseada\\n->\"))\n",
        "    return opcion\n",
        "\n",
        "while continuar >=1 and continuar <=3:\n",
        "    opcion=menuPrincipal()\n",
        "    if opcion==1:\n",
        "        alumnos.append(input(\"Ingrese el nombre del alumno y carrera:\"))\n",
        "\n",
        "    elif opcion==2:\n",
        "        comida.append(input(\"Ingrese el platillo que quiere consumir:\"))\n",
        "        bebida.append(input(\"Ingrse que bebida va a tomar:\"))\n",
        "\n",
        "    elif opcion==3:\n",
        "        print(alumnos,comida,bebida)\n",
        "        alumnos.pop(),comida.pop(),bebida.pop()\n",
        "\n",
        "    elif opcion==4:\n",
        "        continuar=0\n",
        "print(\"Gracias por utilizar este programa, excelente día\")"
      ]
    }
  ]
}