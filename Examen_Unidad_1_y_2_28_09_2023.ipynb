{
  "nbformat": 4,
  "nbformat_minor": 0,
  "metadata": {
    "colab": {
      "provenance": [],
      "authorship_tag": "ABX9TyM/Sxw+O/WcjKrlbwotZdib",
      "include_colab_link": true
    },
    "kernelspec": {
      "name": "python3",
      "display_name": "Python 3"
    },
    "language_info": {
      "name": "python"
    }
  },
  "cells": [
    {
      "cell_type": "markdown",
      "metadata": {
        "id": "view-in-github",
        "colab_type": "text"
      },
      "source": [
        "<a href=\"https://colab.research.google.com/github/Eduardo-Hernandez-M/Trabajos-Organizacion-Base-de-Datos/blob/main/Examen_Unidad_1_y_2_28_09_2023.ipynb\" target=\"_parent\"><img src=\"https://colab.research.google.com/assets/colab-badge.svg\" alt=\"Open In Colab\"/></a>"
      ]
    },
    {
      "cell_type": "code",
      "execution_count": 30,
      "metadata": {
        "colab": {
          "base_uri": "https://localhost:8080/"
        },
        "id": "VUTLT0oqT6NY",
        "outputId": "41d1aeda-16f7-4260-af4d-d9ef362abdeb"
      },
      "outputs": [
        {
          "output_type": "stream",
          "name": "stdout",
          "text": [
            "\n",
            "Ingrese la fila que desea imprimir\n",
            "1. Fila Normal\n",
            "2. Fila Inversa\n",
            "3. Fila de Caracol\n",
            "4. Fin del programa\n",
            "Ingrese la opción deseada:1\n",
            "[1, 2, 3] [4, 5, 6] [7, 8, 9] [10, 11, 12]\n",
            "\n",
            "Ingrese la fila que desea imprimir\n",
            "1. Fila Normal\n",
            "2. Fila Inversa\n",
            "3. Fila de Caracol\n",
            "4. Fin del programa\n",
            "Ingrese la opción deseada:2\n",
            "[12, 11, 10] [9, 8, 7] [6, 5, 4] [3, 2, 1]\n",
            "\n",
            "Ingrese la fila que desea imprimir\n",
            "1. Fila Normal\n",
            "2. Fila Inversa\n",
            "3. Fila de Caracol\n",
            "4. Fin del programa\n",
            "Ingrese la opción deseada:3\n",
            "\n",
            "Ingrese la fila que desea imprimir\n",
            "1. Fila Normal\n",
            "2. Fila Inversa\n",
            "3. Fila de Caracol\n",
            "4. Fin del programa\n",
            "Ingrese la opción deseada:4\n",
            "Gracias por utilizar este programa, excelente día\n"
          ]
        }
      ],
      "source": [
        "class Pila:\n",
        "  continuar=1\n",
        "  items_1=[1,2,3]\n",
        "  items_2=[4,5,6]\n",
        "  items_3=[7,8,9]\n",
        "  items_4=[10,11,12]\n",
        "\n",
        "  def main():\n",
        "    print(\"\\nIngrese la fila que desea imprimir\")\n",
        "    print(\"1. Fila Normal\")\n",
        "    print(\"2. Fila Inversa\")\n",
        "    print(\"3. Fila de Caracol\")\n",
        "    print(\"4. Fin del programa\")\n",
        "    opcion=int(input(\"Ingrese la opción deseada:\"))\n",
        "    return opcion\n",
        "\n",
        "  while continuar >=1 and continuar <=3:\n",
        "      opcion=main()\n",
        "      if opcion==1:\n",
        "        print(items_1,items_2,items_3,items_4)\n",
        "\n",
        "      elif opcion==2:\n",
        "        items_4.reverse()\n",
        "        items_3.reverse()\n",
        "        items_2.reverse()\n",
        "        items_1.reverse()\n",
        "        print(items_4,items_3,items_2,items_1)\n",
        "\n",
        "      elif opcion==3:\n",
        "        def imprimir_caracol(matriz):\n",
        "          pila = Pila()\n",
        "          pila=Pila()\n",
        "          filas = len(items_1,items_2,items_3,items_4)\n",
        "          columnas = len(items_1,items_2,items_3,items_4[0])\n",
        "\n",
        "          fila_inicio = 0\n",
        "          fila_fin = filas - 1\n",
        "          columna_inicio = 0\n",
        "          columna_fin = columnas - 1\n",
        "\n",
        "          while fila_inicio <= fila_fin and columna_inicio <= columna_fin:\n",
        "              for i in range(columna_inicio, columna_fin + 1):\n",
        "                  pila.apilar(matriz[fila_inicio][i])\n",
        "              fila_inicio += 1\n",
        "\n",
        "              for i in range(fila_inicio, fila_fin + 1):\n",
        "                  pila.apilar(matriz[i][columna_fin])\n",
        "              columna_fin -= 1\n",
        "\n",
        "              if fila_inicio <= fila_fin:\n",
        "                  for i in range(columna_fin, columna_inicio - 1, -1):\n",
        "                      pila.apilar(matriz[fila_fin][i])\n",
        "                  fila_fin -= 1\n",
        "\n",
        "\n",
        "              if columna_inicio <= columna_fin:\n",
        "                  for i in range(fila_fin, fila_inicio - 1, -1):\n",
        "                      pila.apilar(matriz[i][columna_inicio])\n",
        "                  columna_inicio += 1\n",
        "\n",
        "          while not pila.esta_vacia():\n",
        "              print(pila.desapilar(), end=' ')\n",
        "\n",
        "      elif opcion==4:\n",
        "          continuar=0\n",
        "  print(\"Gracias por utilizar este programa, excelente día\")"
      ]
    },
    {
      "cell_type": "code",
      "source": [
        "class Pila:\n",
        "    def __init__(self):\n",
        "        self.items = []\n",
        "\n",
        "    def esta_vacia(self):\n",
        "        return len(self.items) == 0\n",
        "\n",
        "    def apilar(self, item):\n",
        "        self.items.append(item)\n",
        "\n",
        "    def desapilar(self):\n",
        "        if not self.esta_vacia():\n",
        "            return self.items.pop()\n",
        "        else:\n",
        "            return None\n",
        "\n",
        "\n",
        "\n",
        "    # Obtener el número de filas y columnas de la matriz\n",
        "\n",
        "\n",
        "# Ejemplo de matriz de prueba\n",
        "matriz_prueba = [\n",
        "    [1, 2, 3, 4],\n",
        "    [5, 6, 7, 8],\n",
        "    [9, 10, 11, 12],\n",
        "]\n",
        "\n",
        "imprimir_caracol(matriz_prueba)\n"
      ],
      "metadata": {
        "colab": {
          "base_uri": "https://localhost:8080/"
        },
        "id": "6H7_bX2JoLX3",
        "outputId": "461e46a8-8758-41bd-f85b-c40bb15e17c4"
      },
      "execution_count": 29,
      "outputs": [
        {
          "output_type": "stream",
          "name": "stdout",
          "text": [
            "7 6 5 9 10 11 12 8 4 3 2 1 "
          ]
        }
      ]
    }
  ]
}