{
  "nbformat": 4,
  "nbformat_minor": 0,
  "metadata": {
    "colab": {
      "provenance": [],
      "authorship_tag": "ABX9TyM1NQ8VElNGyzeg5d3m1pGF",
      "include_colab_link": true
    },
    "kernelspec": {
      "name": "python3",
      "display_name": "Python 3"
    },
    "language_info": {
      "name": "python"
    }
  },
  "cells": [
    {
      "cell_type": "markdown",
      "metadata": {
        "id": "view-in-github",
        "colab_type": "text"
      },
      "source": [
        "<a href=\"https://colab.research.google.com/github/Eduardo-Hernandez-M/Trabajos-Organizacion-Base-de-Datos/blob/main/Practica.ipynb\" target=\"_parent\"><img src=\"https://colab.research.google.com/assets/colab-badge.svg\" alt=\"Open In Colab\"/></a>"
      ]
    },
    {
      "cell_type": "code",
      "execution_count": null,
      "metadata": {
        "id": "c8mDdB_LGXPg",
        "outputId": "0da13bad-a25b-4fa4-a9e4-b70f9c9154c1",
        "colab": {
          "base_uri": "https://localhost:8080/",
          "height": 87
        }
      },
      "outputs": [
        {
          "output_type": "stream",
          "name": "stdout",
          "text": [
            "['pan', 'huevos', 100, 1234]\n",
            "1234\n",
            "4\n"
          ]
        },
        {
          "output_type": "execute_result",
          "data": {
            "text/plain": [
              "'pan'"
            ],
            "application/vnd.google.colaboratory.intrinsic+json": {
              "type": "string"
            }
          },
          "metadata": {},
          "execution_count": 1
        }
      ],
      "source": [
        "factura=[\"pan\",\"huevos\",100,1234]\n",
        "print(factura)\n",
        "print(factura[-1])\n",
        "print(len(factura)-0)\n",
        "factura[-len(factura)]"
      ]
    },
    {
      "cell_type": "code",
      "source": [
        "factura[1]=\"carne\"\n",
        "factura"
      ],
      "metadata": {
        "id": "dtQ3cjpsUixA"
      },
      "execution_count": null,
      "outputs": []
    },
    {
      "cell_type": "code",
      "source": [
        "viaje=[\"Lalo\",\"lalo\"]\n",
        "viaje\n",
        "viaje[1]=\"Daniel\"\n",
        "viaje"
      ],
      "metadata": {
        "id": "TYS92GA2U2aR"
      },
      "execution_count": null,
      "outputs": []
    },
    {
      "cell_type": "code",
      "source": [
        "versiones_plone=[2.5,3.6,4,5]\n",
        "print(versiones_plone)\n",
        "versiones_plone.append(6)\n",
        "print(versiones_plone)\n",
        "versiones_plone.append(\"Hola\")\n",
        "print(versiones_plone)\n",
        "len(versiones_plone)"
      ],
      "metadata": {
        "id": "p_yFRmiWVf8c",
        "colab": {
          "base_uri": "https://localhost:8080/"
        },
        "outputId": "96c95a21-d2fb-46ad-ecf4-d7f5e3daa64a"
      },
      "execution_count": null,
      "outputs": [
        {
          "output_type": "stream",
          "name": "stdout",
          "text": [
            "[2.5, 3.6, 4, 5]\n",
            "[2.5, 3.6, 4, 5, 6]\n",
            "[2.5, 3.6, 4, 5, 6, 'Hola']\n"
          ]
        },
        {
          "output_type": "execute_result",
          "data": {
            "text/plain": [
              "6"
            ]
          },
          "metadata": {},
          "execution_count": 4
        }
      ]
    },
    {
      "cell_type": "code",
      "source": [
        "fiesta=[\"Daniel\",\"Rodrigo\",\"Eduardo\"]\n",
        "print(fiesta)\n",
        "fiesta.append([\"Domingo\",\"Juan\"])\n",
        "print(fiesta)"
      ],
      "metadata": {
        "id": "mFSgDxXSXP5x",
        "colab": {
          "base_uri": "https://localhost:8080/"
        },
        "outputId": "b49f52b0-0e39-4b4d-d222-8b86a5d59402"
      },
      "execution_count": null,
      "outputs": [
        {
          "output_type": "stream",
          "name": "stdout",
          "text": [
            "['Daniel', 'Rodrigo', 'Eduardo']\n",
            "['Daniel', 'Rodrigo', 'Eduardo', ['Domingo', 'Juan']]\n"
          ]
        }
      ]
    },
    {
      "cell_type": "code",
      "source": [
        "versiones_plone=[2.1,2.5,3.6,4,5,6]\n",
        "print(\"6->\"),versiones_plone.count(6)\n",
        "print(\"2.5->\"),versiones_plone.count(2.5)"
      ],
      "metadata": {
        "id": "FhWstEyCYQ5A"
      },
      "execution_count": null,
      "outputs": []
    },
    {
      "cell_type": "code",
      "source": [
        "versiones_plone=[2.1,2.5,3.6]\n",
        "print(versiones_plone)\n",
        "versiones_plone.extend([4])\n",
        "print(versiones_plone)\n",
        "versiones_plone.extend(range(5,7))\n",
        "print(versiones_plone)"
      ],
      "metadata": {
        "id": "xDPkFNZlZAOi"
      },
      "execution_count": null,
      "outputs": []
    },
    {
      "cell_type": "code",
      "source": [
        "versiones_plone=[]\n",
        "print(versiones_plone)\n",
        "versiones_plone.append(6)\n",
        "print(versiones_plone)"
      ],
      "metadata": {
        "id": "-L-zvvBD2rXT"
      },
      "execution_count": null,
      "outputs": []
    },
    {
      "cell_type": "code",
      "source": [
        "versiones_plone=[2.1,2.5,3.6,4,5,6,4]\n",
        "print(versiones_plone.index(4))"
      ],
      "metadata": {
        "id": "_chqtOls3dh1"
      },
      "execution_count": null,
      "outputs": []
    },
    {
      "cell_type": "code",
      "source": [
        "versiones_plone=[2.1,2.5,3.6,4,5,6,4]\n",
        "versiones_plone[2]\n",
        "print(versiones_plone.index(4,2))\n",
        "versiones_plone[3]\n",
        "print(versiones_plone.index(4,5))"
      ],
      "metadata": {
        "id": "iLoBV_-V4n4a"
      },
      "execution_count": null,
      "outputs": []
    }
  ]
}