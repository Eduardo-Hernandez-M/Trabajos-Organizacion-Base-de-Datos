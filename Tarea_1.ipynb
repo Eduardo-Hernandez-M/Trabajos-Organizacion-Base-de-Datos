{
  "nbformat": 4,
  "nbformat_minor": 0,
  "metadata": {
    "colab": {
      "provenance": [],
      "authorship_tag": "ABX9TyN99q2OnkFBfn3gMahRvmtN",
      "include_colab_link": true
    },
    "kernelspec": {
      "name": "python3",
      "display_name": "Python 3"
    },
    "language_info": {
      "name": "python"
    }
  },
  "cells": [
    {
      "cell_type": "markdown",
      "metadata": {
        "id": "view-in-github",
        "colab_type": "text"
      },
      "source": [
        "<a href=\"https://colab.research.google.com/github/Eduardo-Hernandez-M/Trabajos-Organizacion-Base-de-Datos/blob/main/Tarea_1.ipynb\" target=\"_parent\"><img src=\"https://colab.research.google.com/assets/colab-badge.svg\" alt=\"Open In Colab\"/></a>"
      ]
    },
    {
      "cell_type": "code",
      "execution_count": null,
      "metadata": {
        "id": "2qLCqEm74KA3"
      },
      "outputs": [],
      "source": [
        "continuar = 1\n",
        "registro=[]\n",
        "\n",
        "def menuPrincipal():\n",
        "    print (\"Bienvido al prgrama de registro de Alumnos, ¿Que vamos a hacer hoy?\")\n",
        "    print(\"----------------------------------------\")\n",
        "    print (\"1.Capturar Alumnos\")\n",
        "    print (\"2.Buscar por Alumno\")\n",
        "    print (\"3.Buscar por Semestre\")\n",
        "    print (\"4.Buscar por Carrera\")\n",
        "    print (\"5.Conteo de Alumnos\")\n",
        "    print (\"6.Salir del programa\")\n",
        "    opcion = int(input(\"Ingresa la opcion deseada\\n->\"))\n",
        "    return opcion\n",
        "\n",
        "while continuar >=1 and continuar <=4:\n",
        "    opcion=menuPrincipal()\n",
        "    if opcion==1:\n",
        "        registro.append(input(\"Ingrese el nombre del alumno, semestre, arrera (Por favor poner comas por cada parametro que llene):\"))\n",
        "        print(registro)\n",
        "\n",
        "    if opcion==2:\n",
        "        registro.index(input(\"Ingrese el nombre del Alumno que quiera buscar:\"))\n",
        "        print(registro)\n",
        "\n",
        "    if opcion==3:\n",
        "        registro.count(input(\"Ingrese el semestre del Alumno que quiera buscar:\"))\n",
        "        print(registro)\n",
        "\n",
        "    if opcion==4:\n",
        "        registro.count(input(\"Ingrese la carrera del Alumno que quiera buscar:\"))\n",
        "        print(registro)\n",
        "\n",
        "    if opcion==5:\n",
        "        print(\"Los alumnos registrados hasta el momento son:\", len(registro))\n",
        "\n",
        "    elif opcion==6:\n",
        "        continuar=0\n",
        "print(\"Gracias por utilizar este programa, excelente día\")"
      ]
    }
  ]
}