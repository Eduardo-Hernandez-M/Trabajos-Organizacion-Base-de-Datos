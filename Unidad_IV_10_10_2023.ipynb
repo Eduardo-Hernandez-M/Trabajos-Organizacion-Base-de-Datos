{
  "nbformat": 4,
  "nbformat_minor": 0,
  "metadata": {
    "colab": {
      "provenance": [],
      "authorship_tag": "ABX9TyOK7eObBW4Op5Tcp5L2DekZ",
      "include_colab_link": true
    },
    "kernelspec": {
      "name": "python3",
      "display_name": "Python 3"
    },
    "language_info": {
      "name": "python"
    }
  },
  "cells": [
    {
      "cell_type": "markdown",
      "metadata": {
        "id": "view-in-github",
        "colab_type": "text"
      },
      "source": [
        "<a href=\"https://colab.research.google.com/github/Eduardo-Hernandez-M/Trabajos-Organizacion-Base-de-Datos/blob/main/Unidad_IV_10_10_2023.ipynb\" target=\"_parent\"><img src=\"https://colab.research.google.com/assets/colab-badge.svg\" alt=\"Open In Colab\"/></a>"
      ]
    },
    {
      "cell_type": "code",
      "source": [
        "class Node:\n",
        "  def __init__(self,data):\n",
        "    self.left=None\n",
        "    self.right=None\n",
        "    self.data=data\n",
        "\n",
        "class BinaryTree:\n",
        "  def __init__(self, root):\n",
        "    self.root = Node(root)\n",
        "\n",
        "tree = BinaryTree(10)\n",
        "tree.root.left = Node(34)\n",
        "tree.root.right = Node(89)\n",
        "tree.root.left.left = Node(45)\n",
        "tree.root.left.right = Node(50)"
      ],
      "metadata": {
        "id": "5e_5QLBPKP2k"
      },
      "execution_count": 30,
      "outputs": []
    },
    {
      "cell_type": "code",
      "source": [
        "class Node:\n",
        "  def __init__(self,data):\n",
        "    self.left=None\n",
        "    self.right=None\n",
        "    self.data=data\n",
        "\n",
        "class BinaryTree:\n",
        "  def __init__(self, root):\n",
        "    self.root = Node(root)\n",
        "\n",
        "  def preorder(self, node):\n",
        "    if node:\n",
        "      self.preorder(node.left)\n",
        "      self.preorder(node.right)\n",
        "      print(node.data)\n",
        "\n",
        "tree = BinaryTree(10)\n",
        "tree.root.left = Node(34)\n",
        "tree.root.right = Node(89)\n",
        "tree.root.left.left = Node(45)\n",
        "tree.root.left.right = Node(50)\n",
        "\n",
        "tree.preorder(tree.root)"
      ],
      "metadata": {
        "colab": {
          "base_uri": "https://localhost:8080/"
        },
        "id": "n_2aB6kPKUzD",
        "outputId": "37842b36-50a8-4d7d-b12b-faa886d65e6b"
      },
      "execution_count": 34,
      "outputs": [
        {
          "output_type": "stream",
          "name": "stdout",
          "text": [
            "45\n",
            "50\n",
            "34\n",
            "89\n",
            "10\n"
          ]
        }
      ]
    },
    {
      "cell_type": "code",
      "source": [
        "class Node:\n",
        "  def __init__(self,data):\n",
        "    self.left=None\n",
        "    self.right=None\n",
        "    self.data=data\n",
        "\n",
        "class BinaryTree:\n",
        "  def __init__(self, root):\n",
        "    self.root = Node(root)\n",
        "\n",
        "  def inorder(self, node):\n",
        "    if node:\n",
        "      self.inorder(node.left)\n",
        "      self.inorder(node.right)\n",
        "      print(node.data)\n",
        "\n",
        "tree = BinaryTree(10)\n",
        "tree.root.left = Node(34)\n",
        "tree.root.right = Node(89)\n",
        "tree.root.left.left = Node(45)\n",
        "tree.root.left.right = Node(50)\n",
        "\n",
        "tree.inorder(tree.root)"
      ],
      "metadata": {
        "id": "cBxqi1lrNHjA"
      },
      "execution_count": null,
      "outputs": []
    },
    {
      "cell_type": "code",
      "source": [
        "class Node:\n",
        "  def __init__(self,data):\n",
        "    self.left=None\n",
        "    self.right=None\n",
        "    self.data=data\n",
        "\n",
        "class BinaryTree:\n",
        "  def __init__(self, root):\n",
        "    self.root = Node(root)\n",
        "\n",
        "  def postorder(self, node):\n",
        "    if node:\n",
        "      self.postorder(node.left)\n",
        "      self.postorder(node.right)\n",
        "      print(node.data)\n",
        "\n",
        "tree = BinaryTree(10)\n",
        "tree.root.left = Node(34)\n",
        "tree.root.right = Node(89)\n",
        "tree.root.left.left = Node(45)\n",
        "tree.root.left.right = Node(50)\n",
        "\n",
        "tree.postorder(tree.root)"
      ],
      "metadata": {
        "id": "an4k99joN6Fq"
      },
      "execution_count": null,
      "outputs": []
    },
    {
      "cell_type": "code",
      "source": [
        "#El siguiente trabajo demostrara la jerarquia del salón\n",
        "\n",
        "class Node:\n",
        "  def __init__(self,data):\n",
        "    self.left=None\n",
        "    self.right=None\n",
        "    self.data=data\n",
        "\n",
        "class BinaryTree:\n",
        "  def __init__(self, root):\n",
        "    self.root = Node(root)\n",
        "\n",
        "  def inorder(self, node):\n",
        "    if node:\n",
        "      self.inorder(node.left)\n",
        "      self.inorder(node.right)\n",
        "      print(node.data)\n",
        "\n",
        "tree = BinaryTree(\"Rodrigo\")\n",
        "tree.root.left = Node(\"Saul\")\n",
        "tree.root.right = Node(\"Emiliano\")\n",
        "tree.root.left.left = Node(\"Profesor Domoingo_Alfa\")\n",
        "tree.root.left.right = Node(\"Eduardo\")\n",
        "\n",
        "tree.inorder(tree.root)"
      ],
      "metadata": {
        "colab": {
          "base_uri": "https://localhost:8080/"
        },
        "id": "yEA24QoaY0ok",
        "outputId": "e8bbf500-596a-4539-d09e-c1fa235f91bd"
      },
      "execution_count": 35,
      "outputs": [
        {
          "output_type": "stream",
          "name": "stdout",
          "text": [
            "Profesor Domoingo_Alfa\n",
            "Eduardo\n",
            "Saul\n",
            "Emiliano\n",
            "Rodrigo\n"
          ]
        }
      ]
    }
  ]
}