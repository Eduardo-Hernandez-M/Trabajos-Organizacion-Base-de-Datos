{
  "nbformat": 4,
  "nbformat_minor": 0,
  "metadata": {
    "colab": {
      "provenance": [],
      "authorship_tag": "ABX9TyNg36eKvWcTjVF7LkuS1RAU",
      "include_colab_link": true
    },
    "kernelspec": {
      "name": "python3",
      "display_name": "Python 3"
    },
    "language_info": {
      "name": "python"
    }
  },
  "cells": [
    {
      "cell_type": "markdown",
      "metadata": {
        "id": "view-in-github",
        "colab_type": "text"
      },
      "source": [
        "<a href=\"https://colab.research.google.com/github/Eduardo-Hernandez-M/Trabajos-Organizacion-Base-de-Datos/blob/main/Practica_8_14_09_2023.ipynb\" target=\"_parent\"><img src=\"https://colab.research.google.com/assets/colab-badge.svg\" alt=\"Open In Colab\"/></a>"
      ]
    },
    {
      "cell_type": "code",
      "execution_count": null,
      "metadata": {
        "id": "b1Osi3fOVjlg"
      },
      "outputs": [],
      "source": [
        "def jugar(intento=1):\n",
        "  respuesta=input(\"De qué color es una naranja:\")\n",
        "  if respuesta != \"naranja\":\n",
        "    if intento<3:\n",
        "      print(\"\\n Fallaste! Intentalo de nuevo:\")\n",
        "      intento+=1\n",
        "      jugar(intento)\n",
        "    else:\n",
        "      print(\"\\n Perdiste\")\n",
        "  else:\n",
        "    print(\"\\n Ganaste\")\n",
        "\n",
        "jugar()"
      ]
    },
    {
      "cell_type": "code",
      "source": [
        "def imprimir(x):\n",
        "  print(x)\n",
        "  imprimir(x-1)\n",
        "\n",
        "imprimir(5)"
      ],
      "metadata": {
        "id": "5CgS0PkKYHfx"
      },
      "execution_count": null,
      "outputs": []
    },
    {
      "cell_type": "code",
      "source": [
        "def imprimir(x):\n",
        "  if x>0:\n",
        "    print(x)\n",
        "    imprimir(x-1)\n",
        "\n",
        "imprimir(5)"
      ],
      "metadata": {
        "id": "bsPL4Md_agV5"
      },
      "execution_count": null,
      "outputs": []
    },
    {
      "cell_type": "code",
      "source": [
        "def imprimir(x):\n",
        "  if x>0:\n",
        "    imprimir(x-1)\n",
        "    print(x)\n",
        "\n",
        "imprimir(5)"
      ],
      "metadata": {
        "id": "cDUVjajGbWVS"
      },
      "execution_count": null,
      "outputs": []
    },
    {
      "cell_type": "code",
      "source": [],
      "metadata": {
        "id": "jWWB_N1ub0lP"
      },
      "execution_count": null,
      "outputs": []
    }
  ]
}