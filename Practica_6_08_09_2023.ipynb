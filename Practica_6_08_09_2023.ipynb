{
  "nbformat": 4,
  "nbformat_minor": 0,
  "metadata": {
    "colab": {
      "provenance": [],
      "authorship_tag": "ABX9TyOY47MqJTcJuKDxJVRpRPsB",
      "include_colab_link": true
    },
    "kernelspec": {
      "name": "python3",
      "display_name": "Python 3"
    },
    "language_info": {
      "name": "python"
    }
  },
  "cells": [
    {
      "cell_type": "markdown",
      "metadata": {
        "id": "view-in-github",
        "colab_type": "text"
      },
      "source": [
        "<a href=\"https://colab.research.google.com/github/Eduardo-Hernandez-M/Trabajos-Organizacion-Base-de-Datos/blob/main/Practica_6_08_09_2023.ipynb\" target=\"_parent\"><img src=\"https://colab.research.google.com/assets/colab-badge.svg\" alt=\"Open In Colab\"/></a>"
      ]
    },
    {
      "cell_type": "code",
      "execution_count": null,
      "metadata": {
        "id": "mb8ZIt_aJ0-G"
      },
      "outputs": [],
      "source": [
        "class Pila:\n",
        "  continuar = 1\n",
        "\n",
        "  def __init__(self):\n",
        "        \"Crea una pila vacia\"\n",
        "        self.items=[]\n",
        "\n",
        "  def menuPrincipal():\n",
        "      print (\"Bienvido al prgrama de registro de Pilas, ¿Que vamos a hacer hoy?\")\n",
        "      print(\"----------------------------------------\")\n",
        "      print (\"1.Agregar Pila\")\n",
        "      print (\"2.Mostrar Pila\")\n",
        "      print (\"3.Limpiar Pila\")\n",
        "      print (\"4.Teminar el Programa\")\n",
        "      opcion = int(input(\"Ingresa la opcion deseada\\n->\"))\n",
        "      return opcion\n",
        "\n",
        "  while continuar >=1 and continuar <=3:\n",
        "      opcion=menuPrincipal()\n",
        "      if opcion==1:\n",
        "          def apilar(self,x):\n",
        "            self.items.append(x)\n",
        "\n",
        "      elif opcion==2:\n",
        "          def imprimir_Pila(Pila):\n",
        "                for item in Pila.items:\n",
        "                    print(str(item))\n",
        "\n",
        "      elif opcion==3:\n",
        "          def desapilar(self):\n",
        "            try:\n",
        "                return(self.items.pop())\n",
        "            except IndexError:\n",
        "                raise ValueError(\"La pila esta vacia\")\n",
        "\n",
        "          def es_vacia(self):\n",
        "            return (self.items==[])\n",
        "\n",
        "      elif opcion==4:\n",
        "          continuar=0\n",
        "  print(\"Gracias por utilizar este programa, excelente día\")"
      ]
    }
  ]
}